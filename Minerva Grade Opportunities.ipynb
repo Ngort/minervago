{
 "cells": [
  {
   "cell_type": "markdown",
   "metadata": {},
   "source": [
    "## Minerva Grade Opoortunities\n",
    "### Nicolas A Gort Freitas"
   ]
  },
  {
   "cell_type": "code",
   "execution_count": 587,
   "metadata": {
    "collapsed": true
   },
   "outputs": [],
   "source": [
    "import requests\n",
    "import json\n",
    "import urllib.parse, urllib.request, urllib.error\n",
    "import numpy as np\n",
    "import pandas as pd\n",
    "\n",
    "np.set_printoptions(suppress=True)"
   ]
  },
  {
   "cell_type": "code",
   "execution_count": null,
   "metadata": {
    "collapsed": true
   },
   "outputs": [],
   "source": [
    "def retrieve_parallel(key,key2,var): #find keys at the same level in nested dictionaries\n",
    "    if hasattr(var,'items'):\n",
    "        for k, v in var.items():\n",
    "            if k == key:\n",
    "                try: \n",
    "                    yield var[key2]\n",
    "                except: \n",
    "                    pass\n",
    "                \n",
    "            if isinstance(v, dict):\n",
    "                for result in retrieve_parallel(key,key2, v):\n",
    "                    if type(result)==int or type(result)==str:\n",
    "                        yield result\n",
    "            elif isinstance(v, list):\n",
    "                for d in v:\n",
    "                    for result in retrieve_parallel(key,key2, d):\n",
    "                        yield result"
   ]
  },
  {
   "cell_type": "code",
   "execution_count": 558,
   "metadata": {
    "collapsed": true
   },
   "outputs": [],
   "source": [
    "lo = requests.get('https://seminar.minerva.kgi.edu/api/v1/hc-index-items?outcomeType=lo',\n",
    "                headers={'Authorization':'Token ****************************************'}).json()"
   ]
  },
  {
   "cell_type": "code",
   "execution_count": 559,
   "metadata": {
    "collapsed": true
   },
   "outputs": [],
   "source": [
    "hc = requests.get('https://seminar.minerva.kgi.edu/api/v1/hc-index-items',\n",
    "                headers={'Authorization':'Token ****************************************'}).json()"
   ]
  },
  {
   "cell_type": "code",
   "execution_count": 560,
   "metadata": {
    "collapsed": true
   },
   "outputs": [],
   "source": [
    "hctree = requests.get('https://seminar.minerva.kgi.edu/api/v1/hc-trees/current?tree',\n",
    "                headers={'Authorization':'Token ****************************************'}).json()"
   ]
  },
  {
   "cell_type": "code",
   "execution_count": 561,
   "metadata": {
    "collapsed": true
   },
   "outputs": [],
   "source": []
  },
  {
   "cell_type": "code",
   "execution_count": 562,
   "metadata": {
    "collapsed": true
   },
   "outputs": [],
   "source": [
    "hc_index = {}\n",
    "hc_indices = list(retrieve_parallel('hashtag','id',hctree))\n",
    "hc_names = list(retrieve_parallel('id','hashtag',hctree))\n",
    "\n",
    "for i,j in zip(hc_indices,hc_names):\n",
    "    hc_index[i]=j"
   ]
  },
  {
   "cell_type": "code",
   "execution_count": 563,
   "metadata": {
    "collapsed": true
   },
   "outputs": [],
   "source": [
    "def logrades(n):\n",
    "    return requests.get('https://seminar.minerva.kgi.edu/api/v1/outcome-assessments-with-assessed?learning-outcome='+str(n),\n",
    "                headers={'Authorization':'Token ****************************************'}).json()\n",
    "\n",
    "def hcgrades(n):\n",
    "    return requests.get('https://seminar.minerva.kgi.edu/api/v1/outcome-assessments-with-assessed?hc-item='+str(n),\n",
    "                headers={'Authorization':'Token ****************************************'}).json()\n",
    "\n"
   ]
  },
  {
   "cell_type": "code",
   "execution_count": 564,
   "metadata": {
    "collapsed": true
   },
   "outputs": [],
   "source": [
    "def hc_numgrades(hcid):\n",
    "    hcvar = hcgrades(hcid)\n",
    "    weights = []\n",
    "    for i,j in enumerate(hcvar):\n",
    "        if j['score']==0.0:\n",
    "            weights.append(0.0)\n",
    "        elif j['assignment']==None:\n",
    "            weights.append(1.0)\n",
    "        elif 'weight' in j['assignment'].keys():\n",
    "            weights.append(j['assignment']['weight'])\n",
    "        else:\n",
    "            weights.append(weights[-1])\n",
    "\n",
    "    return sum(weights)"
   ]
  },
  {
   "cell_type": "code",
   "execution_count": 707,
   "metadata": {
    "collapsed": true
   },
   "outputs": [],
   "source": [
    "def hc_mean(hcid):\n",
    "    for i in hc:\n",
    "        if i['hc-item']==int(hcid):\n",
    "            if i['mean']==None:\n",
    "                return np.nan\n",
    "            else:\n",
    "                return i['mean']"
   ]
  },
  {
   "cell_type": "code",
   "execution_count": 938,
   "metadata": {
    "collapsed": true
   },
   "outputs": [],
   "source": [
    "def impact4(x):\n",
    "    hcimpact = ((x.Mean*x.N+4)/(x.N+1))\n",
    "    if x.N>0:\n",
    "        return (x.Mean_course*x.HC_count - x.Mean + hcimpact)/(x.HC_count)-x.Mean_course\n",
    "    if x.N==0:\n",
    "        #print ('a')\n",
    "        return (x.Mean_course*x.HC_count+4)/(x.HC_count + 1) - x.Mean_course"
   ]
  },
  {
   "cell_type": "code",
   "execution_count": 575,
   "metadata": {
    "collapsed": true
   },
   "outputs": [],
   "source": [
    "means = np.array([hc_mean(x) for x in hc_index.keys()])\n",
    "ngrades = np.array([hc_numgrades(x) for x in hc_index.keys()])"
   ]
  },
  {
   "cell_type": "code",
   "execution_count": 711,
   "metadata": {
    "collapsed": true
   },
   "outputs": [],
   "source": [
    "cournerstones = list(retrieve_parallel('hashtag','cornerstone-code',hctree))"
   ]
  },
  {
   "cell_type": "code",
   "execution_count": 780,
   "metadata": {},
   "outputs": [],
   "source": [
    "hc_data = pd.DataFrame({\n",
    "'HC' : list(hc_index.values()), \n",
    "    'Mean' : means,\n",
    "    'N' : ngrades,\n",
    "    'Course' : cournerstones\n",
    "    #'potential4' : potential4,\n",
    "    #'potential3' : potential3\n",
    "})"
   ]
  },
  {
   "cell_type": "code",
   "execution_count": 839,
   "metadata": {},
   "outputs": [
    {
     "data": {
      "text/html": [
       "<div>\n",
       "<style>\n",
       "    .dataframe thead tr:only-child th {\n",
       "        text-align: right;\n",
       "    }\n",
       "\n",
       "    .dataframe thead th {\n",
       "        text-align: left;\n",
       "    }\n",
       "\n",
       "    .dataframe tbody tr th {\n",
       "        vertical-align: top;\n",
       "    }\n",
       "</style>\n",
       "<table border=\"1\" class=\"dataframe\">\n",
       "  <thead>\n",
       "    <tr style=\"text-align: right;\">\n",
       "      <th></th>\n",
       "      <th>Course</th>\n",
       "      <th>HC</th>\n",
       "      <th>Mean</th>\n",
       "      <th>N</th>\n",
       "    </tr>\n",
       "  </thead>\n",
       "  <tbody>\n",
       "    <tr>\n",
       "      <th>0</th>\n",
       "      <td>MC</td>\n",
       "      <td>#openmind</td>\n",
       "      <td>3.750000</td>\n",
       "      <td>4.0</td>\n",
       "    </tr>\n",
       "    <tr>\n",
       "      <th>1</th>\n",
       "      <td>MC</td>\n",
       "      <td>#critique</td>\n",
       "      <td>3.035714</td>\n",
       "      <td>28.0</td>\n",
       "    </tr>\n",
       "  </tbody>\n",
       "</table>\n",
       "</div>"
      ],
      "text/plain": [
       "  Course         HC      Mean     N\n",
       "0     MC  #openmind  3.750000   4.0\n",
       "1     MC  #critique  3.035714  28.0"
      ]
     },
     "execution_count": 839,
     "metadata": {},
     "output_type": "execute_result"
    }
   ],
   "source": [
    "hc_data.head(2)"
   ]
  },
  {
   "cell_type": "code",
   "execution_count": 799,
   "metadata": {},
   "outputs": [
    {
     "data": {
      "text/html": [
       "<div>\n",
       "<style>\n",
       "    .dataframe thead tr:only-child th {\n",
       "        text-align: right;\n",
       "    }\n",
       "\n",
       "    .dataframe thead th {\n",
       "        text-align: left;\n",
       "    }\n",
       "\n",
       "    .dataframe tbody tr th {\n",
       "        vertical-align: top;\n",
       "    }\n",
       "</style>\n",
       "<table border=\"1\" class=\"dataframe\">\n",
       "  <thead>\n",
       "    <tr style=\"text-align: right;\">\n",
       "      <th></th>\n",
       "      <th>Mean</th>\n",
       "      <th>HC_count</th>\n",
       "    </tr>\n",
       "    <tr>\n",
       "      <th>Course</th>\n",
       "      <th></th>\n",
       "      <th></th>\n",
       "    </tr>\n",
       "  </thead>\n",
       "  <tbody>\n",
       "    <tr>\n",
       "      <th>CS</th>\n",
       "      <td>3.288901</td>\n",
       "      <td>25.0</td>\n",
       "    </tr>\n",
       "    <tr>\n",
       "      <th>EA</th>\n",
       "      <td>3.574988</td>\n",
       "      <td>24.0</td>\n",
       "    </tr>\n",
       "    <tr>\n",
       "      <th>FA</th>\n",
       "      <td>3.351841</td>\n",
       "      <td>21.0</td>\n",
       "    </tr>\n",
       "    <tr>\n",
       "      <th>MC</th>\n",
       "      <td>3.474969</td>\n",
       "      <td>22.0</td>\n",
       "    </tr>\n",
       "  </tbody>\n",
       "</table>\n",
       "</div>"
      ],
      "text/plain": [
       "            Mean  HC_count\n",
       "Course                    \n",
       "CS      3.288901      25.0\n",
       "EA      3.574988      24.0\n",
       "FA      3.351841      21.0\n",
       "MC      3.474969      22.0"
      ]
     },
     "execution_count": 799,
     "metadata": {},
     "output_type": "execute_result"
    }
   ],
   "source": [
    "scores = hc_data.loc[:,['Mean','Course']].groupby('Course').agg({np.mean,lambda x: len(x[x > 0])})\n",
    "scores.columns = ['Mean','HC_count']\n",
    "scores"
   ]
  },
  {
   "cell_type": "code",
   "execution_count": 937,
   "metadata": {},
   "outputs": [],
   "source": [
    "joint = hc_data.join(scores,on='Course',rsuffix='_course')"
   ]
  },
  {
   "cell_type": "code",
   "execution_count": 936,
   "metadata": {},
   "outputs": [
    {
     "data": {
      "text/html": [
       "<div>\n",
       "<style>\n",
       "    .dataframe thead tr:only-child th {\n",
       "        text-align: right;\n",
       "    }\n",
       "\n",
       "    .dataframe thead th {\n",
       "        text-align: left;\n",
       "    }\n",
       "\n",
       "    .dataframe tbody tr th {\n",
       "        vertical-align: top;\n",
       "    }\n",
       "</style>\n",
       "<table border=\"1\" class=\"dataframe\">\n",
       "  <thead>\n",
       "    <tr style=\"text-align: right;\">\n",
       "      <th></th>\n",
       "      <th>Course</th>\n",
       "      <th>HC</th>\n",
       "      <th>Mean</th>\n",
       "      <th>N</th>\n",
       "      <th>Impact_4</th>\n",
       "    </tr>\n",
       "  </thead>\n",
       "  <tbody>\n",
       "    <tr>\n",
       "      <th>36</th>\n",
       "      <td>FA</td>\n",
       "      <td>#gametheory</td>\n",
       "      <td>3.333333</td>\n",
       "      <td>3.0</td>\n",
       "      <td>0.007937</td>\n",
       "    </tr>\n",
       "    <tr>\n",
       "      <th>31</th>\n",
       "      <td>FA</td>\n",
       "      <td>#broadframing</td>\n",
       "      <td>3.000000</td>\n",
       "      <td>5.0</td>\n",
       "      <td>0.007937</td>\n",
       "    </tr>\n",
       "    <tr>\n",
       "      <th>32</th>\n",
       "      <td>FA</td>\n",
       "      <td>#decisiontrees</td>\n",
       "      <td>2.857143</td>\n",
       "      <td>7.0</td>\n",
       "      <td>0.006803</td>\n",
       "    </tr>\n",
       "    <tr>\n",
       "      <th>30</th>\n",
       "      <td>FA</td>\n",
       "      <td>#risk</td>\n",
       "      <td>3.000000</td>\n",
       "      <td>7.0</td>\n",
       "      <td>0.005952</td>\n",
       "    </tr>\n",
       "    <tr>\n",
       "      <th>28</th>\n",
       "      <td>FA</td>\n",
       "      <td>#sunkcost</td>\n",
       "      <td>3.500000</td>\n",
       "      <td>4.0</td>\n",
       "      <td>0.004762</td>\n",
       "    </tr>\n",
       "    <tr>\n",
       "      <th>56</th>\n",
       "      <td>FA</td>\n",
       "      <td>#optimization</td>\n",
       "      <td>3.285714</td>\n",
       "      <td>7.0</td>\n",
       "      <td>0.004252</td>\n",
       "    </tr>\n",
       "    <tr>\n",
       "      <th>29</th>\n",
       "      <td>FA</td>\n",
       "      <td>#discounting</td>\n",
       "      <td>3.250000</td>\n",
       "      <td>8.0</td>\n",
       "      <td>0.003968</td>\n",
       "    </tr>\n",
       "    <tr>\n",
       "      <th>14</th>\n",
       "      <td>FA</td>\n",
       "      <td>#estimation</td>\n",
       "      <td>3.277778</td>\n",
       "      <td>9.0</td>\n",
       "      <td>0.003439</td>\n",
       "    </tr>\n",
       "    <tr>\n",
       "      <th>18</th>\n",
       "      <td>FA</td>\n",
       "      <td>#confidenceintervals</td>\n",
       "      <td>3.300000</td>\n",
       "      <td>10.0</td>\n",
       "      <td>0.003030</td>\n",
       "    </tr>\n",
       "    <tr>\n",
       "      <th>21</th>\n",
       "      <td>FA</td>\n",
       "      <td>#significance</td>\n",
       "      <td>3.058824</td>\n",
       "      <td>17.0</td>\n",
       "      <td>0.002490</td>\n",
       "    </tr>\n",
       "    <tr>\n",
       "      <th>55</th>\n",
       "      <td>FA</td>\n",
       "      <td>#simulation</td>\n",
       "      <td>3.333333</td>\n",
       "      <td>12.0</td>\n",
       "      <td>0.002442</td>\n",
       "    </tr>\n",
       "    <tr>\n",
       "      <th>37</th>\n",
       "      <td>FA</td>\n",
       "      <td>#variables</td>\n",
       "      <td>3.642857</td>\n",
       "      <td>7.0</td>\n",
       "      <td>0.002126</td>\n",
       "    </tr>\n",
       "    <tr>\n",
       "      <th>16</th>\n",
       "      <td>FA</td>\n",
       "      <td>#distributions</td>\n",
       "      <td>3.235294</td>\n",
       "      <td>17.0</td>\n",
       "      <td>0.002023</td>\n",
       "    </tr>\n",
       "    <tr>\n",
       "      <th>12</th>\n",
       "      <td>FA</td>\n",
       "      <td>#induction</td>\n",
       "      <td>3.500000</td>\n",
       "      <td>13.0</td>\n",
       "      <td>0.001701</td>\n",
       "    </tr>\n",
       "    <tr>\n",
       "      <th>17</th>\n",
       "      <td>FA</td>\n",
       "      <td>#descriptivestats</td>\n",
       "      <td>3.541667</td>\n",
       "      <td>12.0</td>\n",
       "      <td>0.001679</td>\n",
       "    </tr>\n",
       "    <tr>\n",
       "      <th>19</th>\n",
       "      <td>FA</td>\n",
       "      <td>#correlation</td>\n",
       "      <td>3.466667</td>\n",
       "      <td>15.0</td>\n",
       "      <td>0.001587</td>\n",
       "    </tr>\n",
       "    <tr>\n",
       "      <th>11</th>\n",
       "      <td>FA</td>\n",
       "      <td>#deduction</td>\n",
       "      <td>3.375000</td>\n",
       "      <td>24.0</td>\n",
       "      <td>0.001190</td>\n",
       "    </tr>\n",
       "    <tr>\n",
       "      <th>54</th>\n",
       "      <td>FA</td>\n",
       "      <td>#algorithms</td>\n",
       "      <td>3.312500</td>\n",
       "      <td>32.0</td>\n",
       "      <td>0.000992</td>\n",
       "    </tr>\n",
       "    <tr>\n",
       "      <th>13</th>\n",
       "      <td>FA</td>\n",
       "      <td>#fallacies</td>\n",
       "      <td>3.700000</td>\n",
       "      <td>15.0</td>\n",
       "      <td>0.000893</td>\n",
       "    </tr>\n",
       "    <tr>\n",
       "      <th>20</th>\n",
       "      <td>FA</td>\n",
       "      <td>#regression</td>\n",
       "      <td>3.764706</td>\n",
       "      <td>17.0</td>\n",
       "      <td>0.000622</td>\n",
       "    </tr>\n",
       "    <tr>\n",
       "      <th>15</th>\n",
       "      <td>FA</td>\n",
       "      <td>#probability</td>\n",
       "      <td>3.653846</td>\n",
       "      <td>26.0</td>\n",
       "      <td>0.000611</td>\n",
       "    </tr>\n",
       "  </tbody>\n",
       "</table>\n",
       "</div>"
      ],
      "text/plain": [
       "   Course                    HC      Mean     N  Impact_4\n",
       "36     FA           #gametheory  3.333333   3.0  0.007937\n",
       "31     FA         #broadframing  3.000000   5.0  0.007937\n",
       "32     FA        #decisiontrees  2.857143   7.0  0.006803\n",
       "30     FA                 #risk  3.000000   7.0  0.005952\n",
       "28     FA             #sunkcost  3.500000   4.0  0.004762\n",
       "56     FA         #optimization  3.285714   7.0  0.004252\n",
       "29     FA          #discounting  3.250000   8.0  0.003968\n",
       "14     FA           #estimation  3.277778   9.0  0.003439\n",
       "18     FA  #confidenceintervals  3.300000  10.0  0.003030\n",
       "21     FA         #significance  3.058824  17.0  0.002490\n",
       "55     FA           #simulation  3.333333  12.0  0.002442\n",
       "37     FA            #variables  3.642857   7.0  0.002126\n",
       "16     FA        #distributions  3.235294  17.0  0.002023\n",
       "12     FA            #induction  3.500000  13.0  0.001701\n",
       "17     FA     #descriptivestats  3.541667  12.0  0.001679\n",
       "19     FA          #correlation  3.466667  15.0  0.001587\n",
       "11     FA            #deduction  3.375000  24.0  0.001190\n",
       "54     FA           #algorithms  3.312500  32.0  0.000992\n",
       "13     FA            #fallacies  3.700000  15.0  0.000893\n",
       "20     FA           #regression  3.764706  17.0  0.000622\n",
       "15     FA          #probability  3.653846  26.0  0.000611"
      ]
     },
     "execution_count": 936,
     "metadata": {},
     "output_type": "execute_result"
    }
   ],
   "source": [
    "hc_data['Impact_4']=joint.apply(impact4,axis=1)\n",
    "\n",
    "#example: What HCs are most convenient to tag to improve my score in FA?\n",
    "hc_data[hc_data.Course=='FA'].sort_values('Impact_4',ascending=False)\n",
    "#hc_data.sort_values('Impact_4')"
   ]
  }
 ],
 "metadata": {
  "kernelspec": {
   "display_name": "Python 3",
   "language": "python",
   "name": "python3"
  },
  "language_info": {
   "codemirror_mode": {
    "name": "ipython",
    "version": 3
   },
   "file_extension": ".py",
   "mimetype": "text/x-python",
   "name": "python",
   "nbconvert_exporter": "python",
   "pygments_lexer": "ipython3",
   "version": "3.6.2"
  }
 },
 "nbformat": 4,
 "nbformat_minor": 2
}
