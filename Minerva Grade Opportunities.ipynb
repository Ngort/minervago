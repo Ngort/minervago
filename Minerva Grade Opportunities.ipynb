{
 "cells": [
  {
   "cell_type": "markdown",
   "metadata": {},
   "source": [
    "## Minerva Grade Opportunities\n",
    "### Nicolas A Gort Freitas"
   ]
  },
  {
   "cell_type": "code",
   "execution_count": 157,
   "metadata": {
    "collapsed": true
   },
   "outputs": [],
   "source": [
    "import requests\n",
    "import json\n",
    "import urllib.parse, urllib.request, urllib.error\n",
    "import numpy as np\n",
    "import pandas as pd\n",
    "import time\n",
    "\n",
    "np.set_printoptions(suppress=True)\n",
    "token = '****************************************'\n",
    "weight_assignment = 12"
   ]
  },
  {
   "cell_type": "code",
   "execution_count": 158,
   "metadata": {
    "collapsed": true
   },
   "outputs": [],
   "source": [
    "def retrieve_parallel(key,key2,var): #find keys at the same level in nested dictionaries\n",
    "    if hasattr(var,'items'):\n",
    "        for k, v in var.items():\n",
    "            if k == key:\n",
    "                try: \n",
    "                    yield var[key2]\n",
    "                except: \n",
    "                    pass\n",
    "                \n",
    "            if isinstance(v, dict):\n",
    "                for result in retrieve_parallel(key,key2, v):\n",
    "                    if type(result)==int or type(result)==str:\n",
    "                        yield result\n",
    "            elif isinstance(v, list):\n",
    "                for d in v:\n",
    "                    for result in retrieve_parallel(key,key2, d):\n",
    "                        yield result"
   ]
  },
  {
   "cell_type": "code",
   "execution_count": 159,
   "metadata": {
    "collapsed": true
   },
   "outputs": [],
   "source": [
    "lo = requests.get('https://seminar.minerva.kgi.edu/api/v1/hc-index-items?outcomeType=lo',\n",
    "                headers={'Authorization':'Token '+token}).json()"
   ]
  },
  {
   "cell_type": "code",
   "execution_count": 160,
   "metadata": {
    "collapsed": true
   },
   "outputs": [],
   "source": [
    "hc = requests.get('https://seminar.minerva.kgi.edu/api/v1/hc-index-items',\n",
    "                headers={'Authorization':'Token '+token}).json()"
   ]
  },
  {
   "cell_type": "code",
   "execution_count": 161,
   "metadata": {
    "collapsed": true
   },
   "outputs": [],
   "source": [
    "hctree = requests.get('https://seminar.minerva.kgi.edu/api/v1/hc-trees/current?tree',\n",
    "                headers={'Authorization':'Token '+token}).json()"
   ]
  },
  {
   "cell_type": "code",
   "execution_count": null,
   "metadata": {},
   "outputs": [],
   "source": []
  },
  {
   "cell_type": "code",
   "execution_count": 163,
   "metadata": {},
   "outputs": [
    {
     "name": "stdout",
     "output_type": "stream",
     "text": [
      "0.003015000000004875\n"
     ]
    }
   ],
   "source": [
    "start = time.clock()\n",
    "\n",
    "\n",
    "hc_index = {}\n",
    "hc_indices = list(retrieve_parallel('hashtag','id',hctree))\n",
    "hc_names = list(retrieve_parallel('id','hashtag',hctree))\n",
    "\n",
    "for i,j in zip(hc_indices,hc_names):\n",
    "    hc_index[i]=j\n",
    "    \n",
    "print(time.clock() - start)"
   ]
  },
  {
   "cell_type": "code",
   "execution_count": 164,
   "metadata": {
    "collapsed": true
   },
   "outputs": [],
   "source": [
    "def logrades(n):\n",
    "    return requests.get('https://seminar.minerva.kgi.edu/api/v1/outcome-assessments-with-assessed?learning-outcome='+str(n),\n",
    "                headers={'Authorization':'Token '+token}).json()\n",
    "def hcgrades(n):\n",
    "    return requests.get('https://seminar.minerva.kgi.edu/api/v1/outcome-assessments-with-assessed?hc-item='+str(n),\n",
    "                headers={'Authorization':'Token '+token}).json()\n"
   ]
  },
  {
   "cell_type": "code",
   "execution_count": 165,
   "metadata": {
    "collapsed": true
   },
   "outputs": [],
   "source": [
    "def hc_numgrades(hcid):\n",
    "    hcvar = hcgrades(hcid)\n",
    "    weights = []\n",
    "    for i,j in enumerate(hcvar):\n",
    "        if j['score']==0.0:\n",
    "            weights.append(0.0)\n",
    "        elif j['assignment']==None:\n",
    "            weights.append(1.0)\n",
    "        elif 'weight' in j['assignment'].keys():\n",
    "            weights.append(j['assignment']['weight'])\n",
    "        else:\n",
    "            weights.append(weights[-1])\n",
    "\n",
    "    return sum(weights)"
   ]
  },
  {
   "cell_type": "code",
   "execution_count": 166,
   "metadata": {
    "collapsed": true
   },
   "outputs": [],
   "source": [
    "def hc_mean(hcid):\n",
    "    for i in hc:\n",
    "        if i['hc-item']==int(hcid):\n",
    "            if i['mean']==0.0:\n",
    "                return np.nan\n",
    "            else:\n",
    "                return i['mean']"
   ]
  },
  {
   "cell_type": "code",
   "execution_count": 167,
   "metadata": {
    "collapsed": true
   },
   "outputs": [],
   "source": [
    "def impact4(x,weight=weight_assignment):\n",
    "    hcimpact = ((x.Mean*x.N+4*weight)/(x.N+weight))\n",
    "    if x.N>0:\n",
    "        return (x.Mean_course*x.HC_count - x.Mean + hcimpact)/(x.HC_count)-x.Mean_course\n",
    "    if x.N==0:\n",
    "        #print ('a')\n",
    "        return (x.Mean_course*x.HC_count+4)/(x.HC_count + 1) - x.Mean_course\n",
    "    \n",
    "def impact3(x,weight=weight_assignment):\n",
    "    hcimpact = ((x.Mean*x.N+3*weight)/(x.N+weight))\n",
    "    if x.N>0:\n",
    "        return (x.Mean_course*x.HC_count - x.Mean + hcimpact)/(x.HC_count)-x.Mean_course\n",
    "    if x.N==0:\n",
    "        #print ('a')\n",
    "        return (x.Mean_course*x.HC_count+3)/(x.HC_count + 1) - x.Mean_course\n",
    "\n",
    "def expected_impact(x,weight=weight_assignment,p=0.5):\n",
    "    return p*impact4(x)+(1-p)*impact3(x)"
   ]
  },
  {
   "cell_type": "code",
   "execution_count": 168,
   "metadata": {},
   "outputs": [
    {
     "name": "stdout",
     "output_type": "stream",
     "text": [
      "1.8457909999999984\n"
     ]
    }
   ],
   "source": [
    "start = time.clock()\n",
    "means = np.array([hc_mean(x) for x in hc_index.keys()])\n",
    "ngrades = np.array([hc_numgrades(x) for x in hc_index.keys()])\n",
    "print(time.clock() - start)"
   ]
  },
  {
   "cell_type": "code",
   "execution_count": 169,
   "metadata": {
    "collapsed": true
   },
   "outputs": [],
   "source": [
    "cournerstones = list(retrieve_parallel('hashtag','cornerstone-code',hctree))"
   ]
  },
  {
   "cell_type": "code",
   "execution_count": 170,
   "metadata": {
    "collapsed": true
   },
   "outputs": [],
   "source": [
    "hc_data = pd.DataFrame({\n",
    "'HC' : list(hc_index.values()), \n",
    "    'Mean' : means,\n",
    "    'N' : ngrades,\n",
    "    'Course' : cournerstones\n",
    "    #'potential4' : potential4,\n",
    "    #'potential3' : potential3\n",
    "})"
   ]
  },
  {
   "cell_type": "code",
   "execution_count": 171,
   "metadata": {},
   "outputs": [
    {
     "data": {
      "text/html": [
       "<div>\n",
       "<style>\n",
       "    .dataframe thead tr:only-child th {\n",
       "        text-align: right;\n",
       "    }\n",
       "\n",
       "    .dataframe thead th {\n",
       "        text-align: left;\n",
       "    }\n",
       "\n",
       "    .dataframe tbody tr th {\n",
       "        vertical-align: top;\n",
       "    }\n",
       "</style>\n",
       "<table border=\"1\" class=\"dataframe\">\n",
       "  <thead>\n",
       "    <tr style=\"text-align: right;\">\n",
       "      <th></th>\n",
       "      <th>Course</th>\n",
       "      <th>HC</th>\n",
       "      <th>Mean</th>\n",
       "      <th>N</th>\n",
       "    </tr>\n",
       "  </thead>\n",
       "  <tbody>\n",
       "    <tr>\n",
       "      <th>0</th>\n",
       "      <td>MC</td>\n",
       "      <td>#openmind</td>\n",
       "      <td>3.75</td>\n",
       "      <td>4.0</td>\n",
       "    </tr>\n",
       "    <tr>\n",
       "      <th>1</th>\n",
       "      <td>MC</td>\n",
       "      <td>#critique</td>\n",
       "      <td>3.40</td>\n",
       "      <td>35.0</td>\n",
       "    </tr>\n",
       "  </tbody>\n",
       "</table>\n",
       "</div>"
      ],
      "text/plain": [
       "  Course         HC  Mean     N\n",
       "0     MC  #openmind  3.75   4.0\n",
       "1     MC  #critique  3.40  35.0"
      ]
     },
     "execution_count": 171,
     "metadata": {},
     "output_type": "execute_result"
    }
   ],
   "source": [
    "hc_data.head(2)"
   ]
  },
  {
   "cell_type": "code",
   "execution_count": 172,
   "metadata": {},
   "outputs": [
    {
     "data": {
      "text/html": [
       "<div>\n",
       "<style>\n",
       "    .dataframe thead tr:only-child th {\n",
       "        text-align: right;\n",
       "    }\n",
       "\n",
       "    .dataframe thead th {\n",
       "        text-align: left;\n",
       "    }\n",
       "\n",
       "    .dataframe tbody tr th {\n",
       "        vertical-align: top;\n",
       "    }\n",
       "</style>\n",
       "<table border=\"1\" class=\"dataframe\">\n",
       "  <thead>\n",
       "    <tr style=\"text-align: right;\">\n",
       "      <th></th>\n",
       "      <th>Mean</th>\n",
       "      <th>HC_count</th>\n",
       "    </tr>\n",
       "    <tr>\n",
       "      <th>Course</th>\n",
       "      <th></th>\n",
       "      <th></th>\n",
       "    </tr>\n",
       "  </thead>\n",
       "  <tbody>\n",
       "    <tr>\n",
       "      <th>CS</th>\n",
       "      <td>3.348096</td>\n",
       "      <td>26.0</td>\n",
       "    </tr>\n",
       "    <tr>\n",
       "      <th>EA</th>\n",
       "      <td>3.573762</td>\n",
       "      <td>25.0</td>\n",
       "    </tr>\n",
       "    <tr>\n",
       "      <th>FA</th>\n",
       "      <td>3.370950</td>\n",
       "      <td>21.0</td>\n",
       "    </tr>\n",
       "    <tr>\n",
       "      <th>MC</th>\n",
       "      <td>3.504877</td>\n",
       "      <td>23.0</td>\n",
       "    </tr>\n",
       "  </tbody>\n",
       "</table>\n",
       "</div>"
      ],
      "text/plain": [
       "            Mean  HC_count\n",
       "Course                    \n",
       "CS      3.348096      26.0\n",
       "EA      3.573762      25.0\n",
       "FA      3.370950      21.0\n",
       "MC      3.504877      23.0"
      ]
     },
     "execution_count": 172,
     "metadata": {},
     "output_type": "execute_result"
    }
   ],
   "source": [
    "scores = hc_data.loc[:,['Mean','Course']].groupby('Course').agg({np.mean,lambda x: len(x[x > 0])})\n",
    "scores\n",
    "#scores.columns = ['HC_count','Mean']\n",
    "if scores.iloc[0,0]<=5.0:\n",
    "    scores.columns = ['Mean','HC_count']\n",
    "else:\n",
    "    scores.columns = ['HC_count','Mean']\n",
    "#MultiIndex(levels=[['Mean'], ['mean', '<lambda>']],\n",
    "#           labels=[[0, 0], [0, 1]])\n",
    "scores\n"
   ]
  },
  {
   "cell_type": "code",
   "execution_count": 173,
   "metadata": {
    "collapsed": true
   },
   "outputs": [],
   "source": [
    "joint = hc_data.join(scores,on='Course',rsuffix='_course')"
   ]
  },
  {
   "cell_type": "code",
   "execution_count": 174,
   "metadata": {},
   "outputs": [
    {
     "name": "stderr",
     "output_type": "stream",
     "text": [
      "/Users/nico/anaconda3/lib/python3.6/site-packages/ipykernel_launcher.py:6: UserWarning: Boolean Series key will be reindexed to match DataFrame index.\n",
      "  \n"
     ]
    },
    {
     "data": {
      "text/html": [
       "<div>\n",
       "<style>\n",
       "    .dataframe thead tr:only-child th {\n",
       "        text-align: right;\n",
       "    }\n",
       "\n",
       "    .dataframe thead th {\n",
       "        text-align: left;\n",
       "    }\n",
       "\n",
       "    .dataframe tbody tr th {\n",
       "        vertical-align: top;\n",
       "    }\n",
       "</style>\n",
       "<table border=\"1\" class=\"dataframe\">\n",
       "  <thead>\n",
       "    <tr style=\"text-align: right;\">\n",
       "      <th></th>\n",
       "      <th>Course</th>\n",
       "      <th>HC</th>\n",
       "      <th>Mean</th>\n",
       "      <th>N</th>\n",
       "      <th>Impact_4</th>\n",
       "      <th>Impact_3</th>\n",
       "      <th>Expected_impact</th>\n",
       "    </tr>\n",
       "  </thead>\n",
       "  <tbody>\n",
       "    <tr>\n",
       "      <th>30</th>\n",
       "      <td>FA</td>\n",
       "      <td>#risk</td>\n",
       "      <td>3.000000</td>\n",
       "      <td>7.0</td>\n",
       "      <td>0.030075</td>\n",
       "      <td>0.000000</td>\n",
       "      <td>0.015038</td>\n",
       "    </tr>\n",
       "    <tr>\n",
       "      <th>32</th>\n",
       "      <td>FA</td>\n",
       "      <td>#decisiontrees</td>\n",
       "      <td>3.000000</td>\n",
       "      <td>8.0</td>\n",
       "      <td>0.028571</td>\n",
       "      <td>0.000000</td>\n",
       "      <td>0.014286</td>\n",
       "    </tr>\n",
       "    <tr>\n",
       "      <th>31</th>\n",
       "      <td>FA</td>\n",
       "      <td>#broadframing</td>\n",
       "      <td>3.166667</td>\n",
       "      <td>6.0</td>\n",
       "      <td>0.026455</td>\n",
       "      <td>-0.005291</td>\n",
       "      <td>0.010582</td>\n",
       "    </tr>\n",
       "    <tr>\n",
       "      <th>36</th>\n",
       "      <td>FA</td>\n",
       "      <td>#gametheory</td>\n",
       "      <td>3.200000</td>\n",
       "      <td>5.0</td>\n",
       "      <td>0.026891</td>\n",
       "      <td>-0.006723</td>\n",
       "      <td>0.010084</td>\n",
       "    </tr>\n",
       "    <tr>\n",
       "      <th>29</th>\n",
       "      <td>FA</td>\n",
       "      <td>#discounting</td>\n",
       "      <td>3.222222</td>\n",
       "      <td>9.0</td>\n",
       "      <td>0.021164</td>\n",
       "      <td>-0.006047</td>\n",
       "      <td>0.007559</td>\n",
       "    </tr>\n",
       "    <tr>\n",
       "      <th>21</th>\n",
       "      <td>FA</td>\n",
       "      <td>#significance</td>\n",
       "      <td>3.040000</td>\n",
       "      <td>25.0</td>\n",
       "      <td>0.014826</td>\n",
       "      <td>-0.000618</td>\n",
       "      <td>0.007104</td>\n",
       "    </tr>\n",
       "    <tr>\n",
       "      <th>56</th>\n",
       "      <td>FA</td>\n",
       "      <td>#optimization</td>\n",
       "      <td>3.285714</td>\n",
       "      <td>7.0</td>\n",
       "      <td>0.021482</td>\n",
       "      <td>-0.008593</td>\n",
       "      <td>0.006445</td>\n",
       "    </tr>\n",
       "    <tr>\n",
       "      <th>14</th>\n",
       "      <td>FA</td>\n",
       "      <td>#estimation</td>\n",
       "      <td>3.277778</td>\n",
       "      <td>9.0</td>\n",
       "      <td>0.019652</td>\n",
       "      <td>-0.007559</td>\n",
       "      <td>0.006047</td>\n",
       "    </tr>\n",
       "    <tr>\n",
       "      <th>16</th>\n",
       "      <td>FA</td>\n",
       "      <td>#distributions</td>\n",
       "      <td>3.181818</td>\n",
       "      <td>22.0</td>\n",
       "      <td>0.013751</td>\n",
       "      <td>-0.003056</td>\n",
       "      <td>0.005348</td>\n",
       "    </tr>\n",
       "    <tr>\n",
       "      <th>18</th>\n",
       "      <td>FA</td>\n",
       "      <td>#confidenceintervals</td>\n",
       "      <td>3.300000</td>\n",
       "      <td>10.0</td>\n",
       "      <td>0.018182</td>\n",
       "      <td>-0.007792</td>\n",
       "      <td>0.005195</td>\n",
       "    </tr>\n",
       "    <tr>\n",
       "      <th>54</th>\n",
       "      <td>FA</td>\n",
       "      <td>#algorithms</td>\n",
       "      <td>3.312500</td>\n",
       "      <td>32.0</td>\n",
       "      <td>0.008929</td>\n",
       "      <td>-0.004058</td>\n",
       "      <td>0.002435</td>\n",
       "    </tr>\n",
       "    <tr>\n",
       "      <th>19</th>\n",
       "      <td>FA</td>\n",
       "      <td>#correlation</td>\n",
       "      <td>3.466667</td>\n",
       "      <td>15.0</td>\n",
       "      <td>0.011287</td>\n",
       "      <td>-0.009877</td>\n",
       "      <td>0.000705</td>\n",
       "    </tr>\n",
       "    <tr>\n",
       "      <th>28</th>\n",
       "      <td>FA</td>\n",
       "      <td>#sunkcost</td>\n",
       "      <td>3.500000</td>\n",
       "      <td>4.0</td>\n",
       "      <td>0.017857</td>\n",
       "      <td>-0.017857</td>\n",
       "      <td>0.000000</td>\n",
       "    </tr>\n",
       "    <tr>\n",
       "      <th>55</th>\n",
       "      <td>FA</td>\n",
       "      <td>#simulation</td>\n",
       "      <td>3.529412</td>\n",
       "      <td>17.0</td>\n",
       "      <td>0.009273</td>\n",
       "      <td>-0.010432</td>\n",
       "      <td>-0.000580</td>\n",
       "    </tr>\n",
       "    <tr>\n",
       "      <th>11</th>\n",
       "      <td>FA</td>\n",
       "      <td>#deduction</td>\n",
       "      <td>3.554054</td>\n",
       "      <td>37.0</td>\n",
       "      <td>0.005201</td>\n",
       "      <td>-0.006461</td>\n",
       "      <td>-0.000630</td>\n",
       "    </tr>\n",
       "    <tr>\n",
       "      <th>15</th>\n",
       "      <td>FA</td>\n",
       "      <td>#probability</td>\n",
       "      <td>3.568182</td>\n",
       "      <td>43.0</td>\n",
       "      <td>0.004486</td>\n",
       "      <td>-0.005903</td>\n",
       "      <td>-0.000708</td>\n",
       "    </tr>\n",
       "    <tr>\n",
       "      <th>12</th>\n",
       "      <td>FA</td>\n",
       "      <td>#induction</td>\n",
       "      <td>3.535714</td>\n",
       "      <td>14.0</td>\n",
       "      <td>0.010204</td>\n",
       "      <td>-0.011774</td>\n",
       "      <td>-0.000785</td>\n",
       "    </tr>\n",
       "    <tr>\n",
       "      <th>17</th>\n",
       "      <td>FA</td>\n",
       "      <td>#descriptivestats</td>\n",
       "      <td>3.541667</td>\n",
       "      <td>12.0</td>\n",
       "      <td>0.010913</td>\n",
       "      <td>-0.012897</td>\n",
       "      <td>-0.000992</td>\n",
       "    </tr>\n",
       "    <tr>\n",
       "      <th>13</th>\n",
       "      <td>FA</td>\n",
       "      <td>#fallacies</td>\n",
       "      <td>3.700000</td>\n",
       "      <td>15.0</td>\n",
       "      <td>0.006349</td>\n",
       "      <td>-0.014815</td>\n",
       "      <td>-0.004233</td>\n",
       "    </tr>\n",
       "    <tr>\n",
       "      <th>37</th>\n",
       "      <td>FA</td>\n",
       "      <td>#variables</td>\n",
       "      <td>3.642857</td>\n",
       "      <td>7.0</td>\n",
       "      <td>0.010741</td>\n",
       "      <td>-0.019334</td>\n",
       "      <td>-0.004296</td>\n",
       "    </tr>\n",
       "    <tr>\n",
       "      <th>20</th>\n",
       "      <td>FA</td>\n",
       "      <td>#regression</td>\n",
       "      <td>3.764706</td>\n",
       "      <td>17.0</td>\n",
       "      <td>0.004636</td>\n",
       "      <td>-0.015068</td>\n",
       "      <td>-0.005216</td>\n",
       "    </tr>\n",
       "  </tbody>\n",
       "</table>\n",
       "</div>"
      ],
      "text/plain": [
       "   Course                    HC      Mean     N  Impact_4  Impact_3  \\\n",
       "30     FA                 #risk  3.000000   7.0  0.030075  0.000000   \n",
       "32     FA        #decisiontrees  3.000000   8.0  0.028571  0.000000   \n",
       "31     FA         #broadframing  3.166667   6.0  0.026455 -0.005291   \n",
       "36     FA           #gametheory  3.200000   5.0  0.026891 -0.006723   \n",
       "29     FA          #discounting  3.222222   9.0  0.021164 -0.006047   \n",
       "21     FA         #significance  3.040000  25.0  0.014826 -0.000618   \n",
       "56     FA         #optimization  3.285714   7.0  0.021482 -0.008593   \n",
       "14     FA           #estimation  3.277778   9.0  0.019652 -0.007559   \n",
       "16     FA        #distributions  3.181818  22.0  0.013751 -0.003056   \n",
       "18     FA  #confidenceintervals  3.300000  10.0  0.018182 -0.007792   \n",
       "54     FA           #algorithms  3.312500  32.0  0.008929 -0.004058   \n",
       "19     FA          #correlation  3.466667  15.0  0.011287 -0.009877   \n",
       "28     FA             #sunkcost  3.500000   4.0  0.017857 -0.017857   \n",
       "55     FA           #simulation  3.529412  17.0  0.009273 -0.010432   \n",
       "11     FA            #deduction  3.554054  37.0  0.005201 -0.006461   \n",
       "15     FA          #probability  3.568182  43.0  0.004486 -0.005903   \n",
       "12     FA            #induction  3.535714  14.0  0.010204 -0.011774   \n",
       "17     FA     #descriptivestats  3.541667  12.0  0.010913 -0.012897   \n",
       "13     FA            #fallacies  3.700000  15.0  0.006349 -0.014815   \n",
       "37     FA            #variables  3.642857   7.0  0.010741 -0.019334   \n",
       "20     FA           #regression  3.764706  17.0  0.004636 -0.015068   \n",
       "\n",
       "    Expected_impact  \n",
       "30         0.015038  \n",
       "32         0.014286  \n",
       "31         0.010582  \n",
       "36         0.010084  \n",
       "29         0.007559  \n",
       "21         0.007104  \n",
       "56         0.006445  \n",
       "14         0.006047  \n",
       "16         0.005348  \n",
       "18         0.005195  \n",
       "54         0.002435  \n",
       "19         0.000705  \n",
       "28         0.000000  \n",
       "55        -0.000580  \n",
       "11        -0.000630  \n",
       "15        -0.000708  \n",
       "12        -0.000785  \n",
       "17        -0.000992  \n",
       "13        -0.004233  \n",
       "37        -0.004296  \n",
       "20        -0.005216  "
      ]
     },
     "execution_count": 174,
     "metadata": {},
     "output_type": "execute_result"
    }
   ],
   "source": [
    "hc_data['Impact_4']=joint.apply(impact4,axis=1)\n",
    "hc_data['Impact_3']=joint.apply(impact3,axis=1)\n",
    "hc_data['Expected_impact']=joint.apply(expected_impact,axis=1)\n",
    "\n",
    "#example: What HCs are most convenient to tag to improve my score in FA?\n",
    "hc_data.sort_values('Expected_impact',ascending=False)[hc_data.Course=='FA']\n",
    "#hc_data.sort_values('Impact_4')"
   ]
  },
  {
   "cell_type": "code",
   "execution_count": null,
   "metadata": {
    "collapsed": true
   },
   "outputs": [],
   "source": []
  },
  {
   "cell_type": "code",
   "execution_count": null,
   "metadata": {
    "collapsed": true
   },
   "outputs": [],
   "source": []
  }
 ],
 "metadata": {
  "kernelspec": {
   "display_name": "Python 3",
   "language": "python",
   "name": "python3"
  }
 },
 "nbformat": 4,
 "nbformat_minor": 2
}
